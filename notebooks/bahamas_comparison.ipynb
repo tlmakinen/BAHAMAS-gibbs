{
 "cells": [
  {
   "cell_type": "markdown",
   "metadata": {},
   "source": [
    "Compare different calculation methods for BAHAMAS, generally to improve log likelihood calculation speed while ensuring results stay the same. "
   ]
  },
  {
   "cell_type": "code",
   "execution_count": 1,
   "metadata": {
    "collapsed": true
   },
   "outputs": [],
   "source": [
    "# add path to bahamas code to PATH\n",
    "import sys\n",
    "sys.path.append('..')"
   ]
  },
  {
   "cell_type": "code",
   "execution_count": 2,
   "metadata": {
    "collapsed": true
   },
   "outputs": [],
   "source": [
    "import pandas as pd\n",
    "import numpy as np\n",
    "import bahamas, priors, time"
   ]
  },
  {
   "cell_type": "code",
   "execution_count": 3,
   "metadata": {
    "collapsed": true
   },
   "outputs": [],
   "source": [
    "# load data \n",
    "sim_number = sys.argv[1] if len(sys.argv) == 2 else 1 # default to dataset 1\n",
    "data = pd.read_csv('/home/et3918/mlacceleration/SNe_samples/selected_{}.txt'.format(sim_number), sep='\\s+')\n",
    "data = np.array(data[['zCMB', 'zHD', 'c', 'x1', 'mB']])\n",
    "\n",
    "sigmaC = np.array(pd.read_csv('/home/et3918/mlacceleration/SNe_samples/stats_sel_{}.txt'.format(sim_number), sep='\\s+', header=None))\n",
    "\n",
    "log_sigmaCinv = (-1 * np.linalg.slogdet(sigmaC)[1])\n",
    "sigmaCinv = np.linalg.inv(sigmaC)\n",
    "\n",
    "ndat = len(data)\n",
    "\n",
    "J = []\n",
    "for i in range(ndat):\n",
    "    J.append([1., 0., 0.])\n",
    "    J.append([0., 1., 0.])\n",
    "    J.append([0., 0., 1.])\n",
    "J  = np.matrix(J)"
   ]
  },
  {
   "cell_type": "markdown",
   "metadata": {},
   "source": [
    "# comparison at single theta"
   ]
  },
  {
   "cell_type": "code",
   "execution_count": 4,
   "metadata": {
    "collapsed": true
   },
   "outputs": [],
   "source": [
    "param = [.14, 3.2, np.exp(.560333), np.exp(-2.3171), .1, -0.000320865, 0.011789294, -19.365, .3, .7, .7]"
   ]
  },
  {
   "cell_type": "code",
   "execution_count": 5,
   "metadata": {
    "collapsed": false
   },
   "outputs": [
    {
     "name": "stdout",
     "output_type": "stream",
     "text": [
      "CPU times: user 1.88 s, sys: 222 ms, total: 2.1 s\n",
      "Wall time: 178 ms\n"
     ]
    },
    {
     "data": {
      "text/plain": [
       "-445.32394559170064"
      ]
     },
     "execution_count": 5,
     "metadata": {},
     "output_type": "execute_result"
    }
   ],
   "source": [
    "%time bahamas.vanilla_log_likelihood(J, sigmaCinv, log_sigmaCinv, param, data, ndat)"
   ]
  },
  {
   "cell_type": "code",
   "execution_count": 6,
   "metadata": {
    "collapsed": false
   },
   "outputs": [
    {
     "name": "stdout",
     "output_type": "stream",
     "text": [
      "CPU times: user 3.65 s, sys: 375 ms, total: 4.02 s\n",
      "Wall time: 336 ms\n"
     ]
    },
    {
     "data": {
      "text/plain": [
       "-126.34629699614555"
      ]
     },
     "execution_count": 6,
     "metadata": {},
     "output_type": "execute_result"
    }
   ],
   "source": [
    "%time bahamas.rubin_log_likelihood(J, sigmaCinv, log_sigmaCinv, param, data, ndat)"
   ]
  },
  {
   "cell_type": "code",
   "execution_count": 7,
   "metadata": {
    "collapsed": false
   },
   "outputs": [
    {
     "name": "stdout",
     "output_type": "stream",
     "text": [
      "CPU times: user 1.85 s, sys: 226 ms, total: 2.08 s\n",
      "Wall time: 248 ms\n"
     ]
    },
    {
     "data": {
      "text/plain": [
       "17.045378289307052"
      ]
     },
     "execution_count": 7,
     "metadata": {},
     "output_type": "execute_result"
    }
   ],
   "source": [
    "%time bahamas.vincent_log_likelihood(J, sigmaCinv, log_sigmaCinv, param, data, ndat)"
   ]
  },
  {
   "cell_type": "markdown",
   "metadata": {},
   "source": [
    "# comparison at randomly chosen theta"
   ]
  },
  {
   "cell_type": "code",
   "execution_count": 8,
   "metadata": {
    "collapsed": true
   },
   "outputs": [],
   "source": [
    "def theta_sampler(cube):\n",
    "    cube[0] = cube[0] * 1\n",
    "    cube[1] = cube[1] * 4\n",
    "    cube[2] = priors.log_uniform(cube[2], 10**-5, 10**2)\n",
    "    cube[3] = priors.log_uniform(cube[3], 10**-5, 10**2)\n",
    "    cube[4] = cube[4] * 1 \n",
    "    cube[5] = priors.gaussian(cube[5], 0.0, 1.)\n",
    "    cube[6] = priors.gaussian(cube[6], 0.0, 10.)\n",
    "    cube[7] = priors.gaussian(cube[7], -19.3, 2.)\n",
    "    cube[8] = cube[8] * 1\n",
    "    cube[9] = cube[9] * 2\n",
    "    cube[10] = 0.3 + cube[10] * 0.7\n",
    "    return cube"
   ]
  },
  {
   "cell_type": "code",
   "execution_count": 13,
   "metadata": {
    "collapsed": false
   },
   "outputs": [
    {
     "name": "stdout",
     "output_type": "stream",
     "text": [
      "vanilla: -25258.738 (0.175) \t rubin: -24908.479 (0.343) \t vincent: -24907.54 (0.211) \t diff: 0.938\n",
      "vanilla: -83789.33 (0.157) \t rubin: -83789.041 (0.318) \t vincent: -83788.224 (0.253) \t diff: 0.817\n",
      "vanilla: -147253.945 (0.189) \t rubin: -146641.851 (0.341) \t vincent: -146591.902 (0.258) \t diff: 49.949\n",
      "vanilla: -64988.756 (0.158) \t rubin: -64620.699 (0.278) \t vincent: -64611.255 (0.253) \t diff: 9.443\n",
      "vanilla: -3203086.279 (0.192) \t rubin: -3106949.81 (0.276) \t vincent: -3193722.492 (0.183) \t diff: -86772.682\n",
      "vanilla: -792208.782 (0.16) \t rubin: -791855.818 (0.282) \t vincent: -791713.137 (0.229) \t diff: 142.682\n",
      "vanilla: -360623.16 (0.163) \t rubin: -360610.454 (0.28) \t vincent: -360603.457 (0.229) \t diff: 6.997\n",
      "vanilla: -3365803.542 (0.161) \t rubin: -3336015.457 (0.282) \t vincent: -3359969.471 (0.258) \t diff: -23954.014\n",
      "vanilla: -421494.121 (0.158) \t rubin: -421177.417 (0.266) \t vincent: -421168.86 (0.218) \t diff: 8.557\n",
      "vanilla: -14658.131 (0.155) \t rubin: -14658.131 (0.279) \t vincent: -14658.129 (0.214) \t diff: 0.002\n",
      "vanilla: -936759.056 (0.161) \t rubin: -936502.864 (0.259) \t vincent: -936369.736 (0.22) \t diff: 133.127\n",
      "vanilla: -2216025.313 (0.159) \t rubin: -2214987.643 (0.273) \t vincent: -2215021.443 (0.211) \t diff: -33.8\n",
      "vanilla: -308776.044 (0.154) \t rubin: -308459.372 (0.257) \t vincent: -308453.988 (0.211) \t diff: 5.384\n",
      "vanilla: -26014.41 (0.157) \t rubin: -25663.168 (0.261) \t vincent: -25660.993 (0.224) \t diff: 2.175\n",
      "vanilla: -6526.412 (0.177) \t rubin: -6192.497 (0.298) \t vincent: -6189.849 (0.227) \t diff: 2.648\n",
      "vanilla: -66770.439 (0.181) \t rubin: -66450.937 (0.341) \t vincent: -66447.875 (0.261) \t diff: 3.062\n",
      "vanilla: -68640.924 (0.174) \t rubin: -68149.633 (0.315) \t vincent: -68135.377 (0.259) \t diff: 14.256\n",
      "vanilla: -853418.329 (0.178) \t rubin: -853062.987 (0.319) \t vincent: -853062.137 (0.202) \t diff: 0.85\n",
      "vanilla: -788889.172 (0.177) \t rubin: -788878.984 (0.336) \t vincent: -788859.592 (0.244) \t diff: 19.392\n",
      "vanilla: -1506898.6 (0.175) \t rubin: -1506594.469 (0.343) \t vincent: -1506592.275 (0.257) \t diff: 2.195\n",
      "vanilla: -1626042.473 (0.166) \t rubin: -1623627.251 (0.315) \t vincent: -1624218.053 (0.255) \t diff: -590.802\n",
      "vanilla: -3671188.201 (0.179) \t rubin: -3670949.69 (0.29) \t vincent: -3670946.18 (0.256) \t diff: 3.51\n",
      "vanilla: -546113.485 (0.173) \t rubin: -546113.485 (0.342) \t vincent: -546113.483 (0.258) \t diff: 0.001\n",
      "vanilla: -154552.703 (0.16) \t rubin: -154214.373 (0.34) \t vincent: -154212.655 (0.225) \t diff: 1.717\n",
      "vanilla: -189335.177 (0.183) \t rubin: -189335.177 (0.319) \t vincent: -189335.175 (0.232) \t diff: 0.001\n",
      "vanilla: -263016.389 (0.168) \t rubin: -252975.404 (0.295) \t vincent: -260036.074 (0.226) \t diff: -7060.671\n",
      "vanilla: -69207.402 (0.162) \t rubin: -66629.3 (0.28) \t vincent: -66705.404 (0.228) \t diff: -76.104\n",
      "vanilla: -368572.732 (0.16) \t rubin: -368572.732 (0.267) \t vincent: -368572.73 (0.227) \t diff: 0.001\n",
      "vanilla: -980171.472 (0.159) \t rubin: -980162.406 (0.277) \t vincent: -980147.799 (0.23) \t diff: 14.606\n",
      "vanilla: -35696.442 (0.158) \t rubin: -33708.174 (0.272) \t vincent: -33747.882 (0.222) \t diff: -39.708\n",
      "vanilla: -123830.397 (0.165) \t rubin: -123716.795 (0.261) \t vincent: -123606.69 (0.254) \t diff: 110.105\n",
      "vanilla: -inf (0.004) \t rubin: -inf (0.002) \t vincent: -inf (0.002) \t diff: nan\n"
     ]
    },
    {
     "name": "stderr",
     "output_type": "stream",
     "text": [
      "../bahamas/cosmology.py:29: RuntimeWarning: invalid value encountered in sqrt\n",
      "  omegam*(1+zba)**3 + omegade*(1+zba)**(3.+3.*w) + (1.-omegam-omegade)*(1.+zba)**2\n"
     ]
    },
    {
     "name": "stdout",
     "output_type": "stream",
     "text": [
      "vanilla: -161591.377 (0.166) \t rubin: -161391.659 (0.31) \t vincent: -161272.327 (0.262) \t diff: 119.332\n",
      "vanilla: -14043.516 (0.174) \t rubin: -13523.516 (0.33) \t vincent: -13502.727 (0.224) \t diff: 20.789\n",
      "vanilla: -1e+90 (0.16) \t rubin: -1e+90 (0.267) \t vincent: -1e+90 (0.221) \t diff: 0.0\n",
      "vanilla: -80724.667 (0.16) \t rubin: -80314.762 (0.276) \t vincent: -80237.785 (0.27) \t diff: 76.977\n",
      "vanilla: -256345.457 (0.181) \t rubin: -246637.243 (0.343) \t vincent: -252268.15 (0.279) \t diff: -5630.907\n",
      "vanilla: -9958454.529 (0.175) \t rubin: -9958083.724 (0.343) \t vincent: -9957945.1 (0.251) \t diff: 138.625\n",
      "vanilla: -48624.156 (0.178) \t rubin: -48604.902 (0.34) \t vincent: -48588.988 (0.25) \t diff: 15.914\n",
      "vanilla: -8466.563 (0.175) \t rubin: -8113.806 (0.339) \t vincent: -8112.317 (0.222) \t diff: 1.489\n",
      "vanilla: -14066763.847 (0.171) \t rubin: -14066763.847 (0.295) \t vincent: -14066763.846 (0.242) \t diff: 0.001\n",
      "vanilla: -24336940.677 (0.169) \t rubin: -24336940.677 (0.336) \t vincent: -24336940.675 (0.232) \t diff: 0.003\n",
      "vanilla: -inf (0.004) \t rubin: -inf (0.003) \t vincent: -inf (0.003) \t diff: nan\n",
      "vanilla: -5332981.138 (0.171) \t rubin: -5332969.854 (0.338) \t vincent: -5332952.126 (0.248) \t diff: 17.728\n",
      "vanilla: -12471.741 (0.179) \t rubin: -11526.043 (0.315) \t vincent: -11551.566 (0.237) \t diff: -25.523\n",
      "vanilla: -349773.833 (0.178) \t rubin: -349773.323 (0.339) \t vincent: -349772.339 (0.261) \t diff: 0.985\n",
      "vanilla: -2175545.377 (0.177) \t rubin: -2175145.813 (0.34) \t vincent: -2175139.305 (0.258) \t diff: 6.508\n",
      "vanilla: -25693.867 (0.175) \t rubin: -23415.703 (0.31) \t vincent: -23334.103 (0.247) \t diff: 81.6\n",
      "vanilla: -1908316.615 (0.163) \t rubin: -1867599.843 (0.289) \t vincent: -1902709.608 (0.28) \t diff: -35109.765\n",
      "vanilla: -1207815.09 (0.168) \t rubin: -1207815.09 (0.3) \t vincent: -1207815.088 (0.236) \t diff: 0.001\n",
      "vanilla: -684224.389 (0.166) \t rubin: -683557.986 (0.33) \t vincent: -683498.184 (0.235) \t diff: 59.802\n",
      "vanilla: -316849.316 (0.16) \t rubin: -316689.255 (0.313) \t vincent: -316581.183 (0.245) \t diff: 108.072\n",
      "vanilla: -182187.22 (0.165) \t rubin: -179812.936 (0.305) \t vincent: -180779.44 (0.205) \t diff: -966.504\n",
      "vanilla: -21366.048 (0.176) \t rubin: -21186.682 (0.301) \t vincent: -21170.642 (0.256) \t diff: 16.04\n",
      "vanilla: -169091.278 (0.162) \t rubin: -168951.981 (0.264) \t vincent: -168938.697 (0.237) \t diff: 13.284\n",
      "vanilla: -25728.788 (0.174) \t rubin: -25220.994 (0.301) \t vincent: -25193.54 (0.245) \t diff: 27.454\n",
      "vanilla: -3843677.205 (0.174) \t rubin: -3791445.708 (0.341) \t vincent: -3837115.48 (0.308) \t diff: -45669.772\n",
      "vanilla: -inf (0.004) \t rubin: -inf (0.003) \t vincent: -inf (0.003) \t diff: nan\n",
      "vanilla: -242275.974 (0.171) \t rubin: -241935.31 (0.337) \t vincent: -241933.083 (0.232) \t diff: 2.226\n",
      "vanilla: -723461.291 (0.181) \t rubin: -722781.837 (0.335) \t vincent: -722683.29 (0.255) \t diff: 98.547\n",
      "vanilla: -14919061.976 (0.19) \t rubin: -14919061.976 (0.341) \t vincent: -14919061.974 (0.257) \t diff: 0.001\n",
      "vanilla: -3091657.909 (0.177) \t rubin: -3091657.806 (0.312) \t vincent: -3091657.74 (0.259) \t diff: 0.067\n",
      "vanilla: -1291740.655 (0.167) \t rubin: -1289362.16 (0.32) \t vincent: -1290073.242 (0.234) \t diff: -711.082\n",
      "vanilla: -352153.256 (0.175) \t rubin: -347452.841 (0.317) \t vincent: -349771.12 (0.243) \t diff: -2318.279\n",
      "vanilla: -214365.126 (0.175) \t rubin: -212907.563 (0.307) \t vincent: -213222.531 (0.267) \t diff: -314.968\n",
      "vanilla: -2344932.716 (0.178) \t rubin: -2331443.321 (0.334) \t vincent: -2341940.967 (0.26) \t diff: -10497.646\n",
      "vanilla: -179506.573 (0.175) \t rubin: -176927.961 (0.289) \t vincent: -177935.763 (0.219) \t diff: -1007.803\n",
      "vanilla: -437666.025 (0.16) \t rubin: -437665.359 (0.263) \t vincent: -437664.248 (0.215) \t diff: 1.111\n",
      "vanilla: -757447.843 (0.159) \t rubin: -757447.843 (0.282) \t vincent: -757447.841 (0.219) \t diff: 0.001\n",
      "vanilla: -828987.513 (0.179) \t rubin: -820801.689 (0.34) \t vincent: -823161.617 (0.31) \t diff: -2359.928\n",
      "vanilla: -6255.333 (0.171) \t rubin: -5914.432 (0.325) \t vincent: -5913.404 (0.21) \t diff: 1.028\n",
      "vanilla: -356091.993 (0.182) \t rubin: -354149.789 (0.318) \t vincent: -354294.101 (0.209) \t diff: -144.312\n",
      "vanilla: -inf (0.002) \t rubin: -inf (0.002) \t vincent: -inf (0.002) \t diff: nan\n",
      "vanilla: -1133833.502 (0.17) \t rubin: -1131110.268 (0.334) \t vincent: -1131357.163 (0.234) \t diff: -246.895\n",
      "vanilla: -inf (0.002) \t rubin: -inf (0.002) \t vincent: -inf (0.002) \t diff: nan\n",
      "vanilla: -703391.89 (0.168) \t rubin: -703380.875 (0.322) \t vincent: -703370.776 (0.234) \t diff: 10.099\n",
      "vanilla: -37621.816 (0.172) \t rubin: -37477.993 (0.322) \t vincent: -37465.968 (0.255) \t diff: 12.025\n",
      "vanilla: -inf (0.002) \t rubin: -inf (0.002) \t vincent: -inf (0.002) \t diff: nan\n",
      "vanilla: -786776.184 (0.164) \t rubin: -785738.146 (0.271) \t vincent: -785661.398 (0.225) \t diff: 76.748\n",
      "vanilla: -20974.813 (0.165) \t rubin: -20499.706 (0.281) \t vincent: -20374.82 (0.228) \t diff: 124.886\n",
      "vanilla: -1044174.404 (0.165) \t rubin: -1044173.476 (0.284) \t vincent: -1044171.277 (0.251) \t diff: 2.199\n",
      "vanilla: -14867.077 (0.178) \t rubin: -14338.131 (0.308) \t vincent: -14278.435 (0.263) \t diff: 59.696\n",
      "vanilla: -195334.971 (0.168) \t rubin: -195049.232 (0.319) \t vincent: -194945.761 (0.26) \t diff: 103.472\n",
      "vanilla: -369297.009 (0.176) \t rubin: -369296.962 (0.335) \t vincent: -369296.803 (0.242) \t diff: 0.158\n",
      "vanilla: -174630.662 (0.163) \t rubin: -174630.662 (0.307) \t vincent: -174630.66 (0.263) \t diff: 0.001\n",
      "vanilla: -162509.811 (0.168) \t rubin: -161620.115 (0.301) \t vincent: -161513.712 (0.255) \t diff: 106.403\n",
      "vanilla: -7093360.531 (0.162) \t rubin: -7093360.531 (0.303) \t vincent: -7093360.529 (0.248) \t diff: 0.001\n",
      "vanilla: -inf (0.002) \t rubin: -inf (0.002) \t vincent: -inf (0.002) \t diff: nan\n",
      "vanilla: -16113.302 (0.163) \t rubin: -15734.902 (0.286) \t vincent: -15624.202 (0.257) \t diff: 110.7\n",
      "vanilla: -29202.57 (0.175) \t rubin: -29015.375 (0.338) \t vincent: -29000.504 (0.255) \t diff: 14.871\n",
      "vanilla: -159059.316 (0.176) \t rubin: -155071.892 (0.335) \t vincent: -156962.762 (0.252) \t diff: -1890.87\n",
      "vanilla: -411415.03 (0.176) \t rubin: -410029.193 (0.278) \t vincent: -410281.837 (0.231) \t diff: -252.645\n",
      "vanilla: -451378.671 (0.161) \t rubin: -450985.478 (0.304) \t vincent: -450979.787 (0.211) \t diff: 5.691\n",
      "vanilla: -46352.235 (0.174) \t rubin: -45996.63 (0.302) \t vincent: -45991.211 (0.234) \t diff: 5.419\n",
      "vanilla: -1e+90 (0.163) \t rubin: -1e+90 (0.29) \t vincent: -1e+90 (0.253) \t diff: 0.0\n",
      "vanilla: -3583948.127 (0.178) \t rubin: -3583948.127 (0.314) \t vincent: -3583948.126 (0.261) \t diff: 0.001\n",
      "vanilla: -2387705.97 (0.177) \t rubin: -2343602.008 (0.34) \t vincent: -2381598.753 (0.311) \t diff: -37996.744\n",
      "vanilla: -110077.334 (0.172) \t rubin: -109829.625 (0.341) \t vincent: -109818.066 (0.265) \t diff: 11.56\n",
      "vanilla: -454305.032 (0.19) \t rubin: -454082.497 (0.292) \t vincent: -454060.998 (0.266) \t diff: 21.499\n",
      "vanilla: -54036.857 (0.184) \t rubin: -53753.022 (0.31) \t vincent: -53724.5 (0.233) \t diff: 28.521\n"
     ]
    }
   ],
   "source": [
    "log_likelihood_times  = []\n",
    "rubin_log_likelihood_times = []\n",
    "vincent_log_likelihood_times = []\n",
    "for i in range(100):\n",
    "    random_param = theta_sampler(np.random.rand(11))\n",
    "    \n",
    "    a = time.time()\n",
    "    vanilla = bahamas.vanilla_log_likelihood(J, sigmaCinv, log_sigmaCinv, random_param, data, ndat)\n",
    "    b = time.time()\n",
    "    rubin = bahamas.rubin_log_likelihood(J, sigmaCinv, log_sigmaCinv, random_param, data, ndat)\n",
    "    c = time.time()\n",
    "    vincent = bahamas.vincent_log_likelihood(J, sigmaCinv, log_sigmaCinv, random_param, data, ndat)\n",
    "    d = time.time()\n",
    "    \n",
    "    log_likelihood_times.append(b - a)\n",
    "    rubin_log_likelihood_times.append(c - b)\n",
    "    vincent_log_likelihood_times.append(d - c)\n",
    "    \n",
    "    print('vanilla: {} ({}) \\t rubin: {} ({}) \\t vincent: {} ({}) \\t diff: {}'.format(\n",
    "        round(vanilla, 3),\n",
    "        round(b - a, 3),\n",
    "        round(rubin, 3),\n",
    "        round(c - b, 3),\n",
    "        round(vincent, 3),\n",
    "        round(d - c, 3),\n",
    "        round(vincent - rubin, 3)))"
   ]
  },
  {
   "cell_type": "code",
   "execution_count": 14,
   "metadata": {
    "collapsed": true
   },
   "outputs": [],
   "source": [
    "log_likelihood_times = np.array(log_likelihood_times)\n",
    "rubin_log_likelihood_times = np.array(rubin_log_likelihood_times)\n",
    "vincent_log_likelihood_times = np.array(vincent_log_likelihood_times)"
   ]
  },
  {
   "cell_type": "code",
   "execution_count": 15,
   "metadata": {
    "collapsed": false
   },
   "outputs": [
    {
     "name": "stdout",
     "output_type": "stream",
     "text": [
      "0.15859220743179323 0.2862197279930115 0.2257496500015259\n"
     ]
    }
   ],
   "source": [
    "print(np.mean(log_likelihood_times), \n",
    "      np.mean(rubin_log_likelihood_times), \n",
    "      np.mean(vincent_log_likelihood_times))"
   ]
  }
 ],
 "metadata": {
  "anaconda-cloud": {},
  "kernelspec": {
   "display_name": "Python [default]",
   "language": "python",
   "name": "python3"
  },
  "language_info": {
   "codemirror_mode": {
    "name": "ipython",
    "version": 3
   },
   "file_extension": ".py",
   "mimetype": "text/x-python",
   "name": "python",
   "nbconvert_exporter": "python",
   "pygments_lexer": "ipython3",
   "version": "3.5.6"
  }
 },
 "nbformat": 4,
 "nbformat_minor": 2
}
